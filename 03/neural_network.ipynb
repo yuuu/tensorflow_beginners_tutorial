{
 "cells": [
  {
   "cell_type": "code",
   "execution_count": 1,
   "metadata": {
    "collapsed": true
   },
   "outputs": [],
   "source": [
    "import tensorflow as tf\n",
    "import numpy as np"
   ]
  },
  {
   "cell_type": "code",
   "execution_count": 2,
   "metadata": {
    "collapsed": true
   },
   "outputs": [],
   "source": [
    "def loss(t, f):\n",
    "    cross_entropy = tf.reduce_mean(-tf.reduce_sum(t * tf.log(f)))\n",
    "    return cross_entropy"
   ]
  },
  {
   "cell_type": "code",
   "execution_count": 3,
   "metadata": {
    "collapsed": true
   },
   "outputs": [],
   "source": [
    "def weight(shape = []):\n",
    "    initial = tf.truncated_normal(shape, stddev = 0.01)\n",
    "    return tf.Variable(initial)"
   ]
  },
  {
   "cell_type": "code",
   "execution_count": 4,
   "metadata": {
    "collapsed": true
   },
   "outputs": [],
   "source": [
    "def bias(dtype = tf.float32, shape = []):\n",
    "    initial = tf.zeros(shape, dtype = dtype)\n",
    "    return tf.Variable(initial) "
   ]
  },
  {
   "cell_type": "code",
   "execution_count": 5,
   "metadata": {
    "collapsed": true
   },
   "outputs": [],
   "source": [
    "def sigmoid(x):\n",
    "    return (1 /(1 + tf.exp(-x)))"
   ]
  },
  {
   "cell_type": "code",
   "execution_count": 6,
   "metadata": {
    "collapsed": true
   },
   "outputs": [],
   "source": [
    "Q = 4\n",
    "P = 4\n",
    "R = 3"
   ]
  },
  {
   "cell_type": "code",
   "execution_count": 7,
   "metadata": {
    "collapsed": true
   },
   "outputs": [],
   "source": [
    "sess = tf.InteractiveSession()"
   ]
  },
  {
   "cell_type": "code",
   "execution_count": 8,
   "metadata": {
    "collapsed": true
   },
   "outputs": [],
   "source": [
    "X = tf.placeholder(dtype = tf.float32, shape = [None, Q])"
   ]
  },
  {
   "cell_type": "code",
   "execution_count": 9,
   "metadata": {
    "collapsed": true
   },
   "outputs": [],
   "source": [
    "t = tf.placeholder(dtype = tf.float32, shape = [None, R])"
   ]
  },
  {
   "cell_type": "code",
   "execution_count": 10,
   "metadata": {
    "collapsed": true
   },
   "outputs": [],
   "source": [
    "W1 = weight(shape = [Q, P])\n",
    "b1 = bias(shape = [P])\n",
    "f1 = tf.matmul(X, W1) + b1\n",
    "sigm = sigmoid(f1)"
   ]
  },
  {
   "cell_type": "code",
   "execution_count": 11,
   "metadata": {
    "collapsed": true
   },
   "outputs": [],
   "source": [
    "W2 = weight(shape = [P, R])\n",
    "b2 = bias(shape = [R])\n",
    "f2 = tf.matmul(sigm, W2) + b2"
   ]
  },
  {
   "cell_type": "code",
   "execution_count": 12,
   "metadata": {
    "collapsed": true
   },
   "outputs": [],
   "source": [
    "f = tf.nn.softmax(f2)\n",
    "loss = loss(t, f)"
   ]
  },
  {
   "cell_type": "code",
   "execution_count": 13,
   "metadata": {
    "collapsed": true
   },
   "outputs": [],
   "source": [
    "optimizer = tf.train.GradientDescentOptimizer(learning_rate = 0.001)\n",
    "train_step = optimizer.minimize(loss)"
   ]
  },
  {
   "cell_type": "code",
   "execution_count": 14,
   "metadata": {
    "collapsed": true
   },
   "outputs": [],
   "source": [
    "init_op = tf.global_variables_initializer()\n",
    "sess.run(init_op)"
   ]
  },
  {
   "cell_type": "code",
   "execution_count": 15,
   "metadata": {},
   "outputs": [],
   "source": [
    "from sklearn import datasets\n",
    "iris = datasets.load_iris()\n",
    "train_x = iris.data\n",
    "train_t = iris.target\n",
    "train_t = np.eye(3)[train_t]"
   ]
  },
  {
   "cell_type": "code",
   "execution_count": 16,
   "metadata": {},
   "outputs": [],
   "source": [
    "y = sess.run(f2, {X: np.array([1,2,2,5]).astype(np.float32).reshape(1,4) })"
   ]
  },
  {
   "cell_type": "code",
   "execution_count": 17,
   "metadata": {},
   "outputs": [
    {
     "name": "stdout",
     "output_type": "stream",
     "text": [
      "[[-0.00576859  0.00200231  0.00947229]]\n"
     ]
    }
   ],
   "source": [
    "print(y)"
   ]
  },
  {
   "cell_type": "code",
   "execution_count": 18,
   "metadata": {},
   "outputs": [
    {
     "name": "stdout",
     "output_type": "stream",
     "text": [
      "epoch : 0 loss:164.79319763183594\n",
      "epoch : 100 loss:155.66514587402344\n",
      "epoch : 200 loss:86.49329376220703\n",
      "epoch : 300 loss:67.92941284179688\n",
      "epoch : 400 loss:54.83168029785156\n",
      "epoch : 500 loss:43.492210388183594\n",
      "epoch : 600 loss:35.012474060058594\n",
      "epoch : 700 loss:29.092744827270508\n",
      "epoch : 800 loss:24.97086524963379\n",
      "epoch : 900 loss:22.025854110717773\n",
      "epoch : 1000 loss:19.852754592895508\n",
      "epoch : 1100 loss:18.199243545532227\n",
      "epoch : 1200 loss:16.90660858154297\n",
      "epoch : 1300 loss:15.872352600097656\n",
      "epoch : 1400 loss:15.028244018554688\n",
      "epoch : 1500 loss:14.32750129699707\n",
      "epoch : 1600 loss:13.737178802490234\n",
      "epoch : 1700 loss:13.233497619628906\n",
      "epoch : 1800 loss:12.79891300201416\n",
      "epoch : 1900 loss:12.420230865478516\n",
      "epoch : 2000 loss:12.087367057800293\n",
      "epoch : 2100 loss:11.792471885681152\n",
      "epoch : 2200 loss:11.529376983642578\n",
      "epoch : 2300 loss:11.293153762817383\n",
      "epoch : 2400 loss:11.079833030700684\n",
      "epoch : 2500 loss:10.886178016662598\n",
      "epoch : 2600 loss:10.709527969360352\n",
      "epoch : 2700 loss:10.547674179077148\n",
      "epoch : 2800 loss:10.39877700805664\n",
      "epoch : 2900 loss:10.261279106140137\n",
      "epoch : 3000 loss:10.133866310119629\n",
      "epoch : 3100 loss:10.015423774719238\n",
      "epoch : 3200 loss:9.904980659484863\n",
      "epoch : 3300 loss:9.80170726776123\n",
      "epoch : 3400 loss:9.704894065856934\n",
      "epoch : 3500 loss:9.613907814025879\n",
      "epoch : 3600 loss:9.528203010559082\n",
      "epoch : 3700 loss:9.447300910949707\n",
      "epoch : 3800 loss:9.37077808380127\n",
      "epoch : 3900 loss:9.298255920410156\n",
      "epoch : 4000 loss:9.229408264160156\n",
      "epoch : 4100 loss:9.163931846618652\n",
      "epoch : 4200 loss:9.101563453674316\n",
      "epoch : 4300 loss:9.042062759399414\n",
      "epoch : 4400 loss:8.985228538513184\n",
      "epoch : 4500 loss:8.930851936340332\n",
      "epoch : 4600 loss:8.878766059875488\n",
      "epoch : 4700 loss:8.828812599182129\n",
      "epoch : 4800 loss:8.78084659576416\n",
      "epoch : 4900 loss:8.734736442565918\n",
      "epoch : 5000 loss:8.690367698669434\n",
      "epoch : 5100 loss:8.647628784179688\n",
      "epoch : 5200 loss:8.606415748596191\n",
      "epoch : 5300 loss:8.566642761230469\n",
      "epoch : 5400 loss:8.528218269348145\n",
      "epoch : 5500 loss:8.491069793701172\n",
      "epoch : 5600 loss:8.45512580871582\n",
      "epoch : 5700 loss:8.420317649841309\n",
      "epoch : 5800 loss:8.38658618927002\n",
      "epoch : 5900 loss:8.353863716125488\n",
      "epoch : 6000 loss:8.322113990783691\n",
      "epoch : 6100 loss:8.291278839111328\n",
      "epoch : 6200 loss:8.261307716369629\n",
      "epoch : 6300 loss:8.232166290283203\n",
      "epoch : 6400 loss:8.203814506530762\n",
      "epoch : 6500 loss:8.17620849609375\n",
      "epoch : 6600 loss:8.149311065673828\n",
      "epoch : 6700 loss:8.123101234436035\n",
      "epoch : 6800 loss:8.097539901733398\n",
      "epoch : 6900 loss:8.072602272033691\n",
      "epoch : 7000 loss:8.048250198364258\n",
      "epoch : 7100 loss:8.024471282958984\n",
      "epoch : 7200 loss:8.001235008239746\n",
      "epoch : 7300 loss:7.978518009185791\n",
      "epoch : 7400 loss:7.956305503845215\n",
      "epoch : 7500 loss:7.934567928314209\n",
      "epoch : 7600 loss:7.913292407989502\n",
      "epoch : 7700 loss:7.8924560546875\n",
      "epoch : 7800 loss:7.872042179107666\n",
      "epoch : 7900 loss:7.852041244506836\n",
      "epoch : 8000 loss:7.832433223724365\n",
      "epoch : 8100 loss:7.813199043273926\n",
      "epoch : 8200 loss:7.794329643249512\n",
      "epoch : 8300 loss:7.775808811187744\n",
      "epoch : 8400 loss:7.757631778717041\n",
      "epoch : 8500 loss:7.739774227142334\n",
      "epoch : 8600 loss:7.72223424911499\n",
      "epoch : 8700 loss:7.705001354217529\n",
      "epoch : 8800 loss:7.688054084777832\n",
      "epoch : 8900 loss:7.671396732330322\n",
      "epoch : 9000 loss:7.655011177062988\n",
      "epoch : 9100 loss:7.638890266418457\n",
      "epoch : 9200 loss:7.62302827835083\n",
      "epoch : 9300 loss:7.607412338256836\n",
      "epoch : 9400 loss:7.592034816741943\n",
      "epoch : 9500 loss:7.576893329620361\n",
      "epoch : 9600 loss:7.561974048614502\n",
      "epoch : 9700 loss:7.547276973724365\n",
      "epoch : 9800 loss:7.532788276672363\n",
      "epoch : 9900 loss:7.5185065269470215\n"
     ]
    }
   ],
   "source": [
    "num_epoch = 10000\n",
    "for epoch in range(num_epoch):\n",
    "    sess.run(train_step, feed_dict = {X: train_x, t: train_t})\n",
    "    if epoch % 100 == 0:\n",
    "        train_loss = sess.run(loss, feed_dict = {X: train_x, t: train_t})\n",
    "        print('epoch : {} loss:{}'.format(epoch, train_loss))"
   ]
  },
  {
   "cell_type": "code",
   "execution_count": 19,
   "metadata": {
    "collapsed": true
   },
   "outputs": [],
   "source": [
    "sess.close()"
   ]
  }
 ],
 "metadata": {
  "kernelspec": {
   "display_name": "Python 3",
   "language": "python",
   "name": "python3"
  },
  "language_info": {
   "codemirror_mode": {
    "name": "ipython",
    "version": 3
   },
   "file_extension": ".py",
   "mimetype": "text/x-python",
   "name": "python",
   "nbconvert_exporter": "python",
   "pygments_lexer": "ipython3",
   "version": "3.5.2"
  }
 },
 "nbformat": 4,
 "nbformat_minor": 2
}
